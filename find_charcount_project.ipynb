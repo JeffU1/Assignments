{
 "cells": [
  {
   "cell_type": "code",
   "execution_count": 29,
   "metadata": {},
   "outputs": [
    {
     "output_type": "stream",
     "name": "stdout",
     "text": "{'h': 1, 'i': 1, 'p': 2, 'o': 2, ' ': 3, 'r': 1, 'u': 2, 'n': 1, 's': 2, 't': 1, '!': 1}\n"
    }
   ],
   "source": [
    "sentence= input(\"Please enter a sentence: \")\n",
    "y=list(sentence)\n",
    "letters_list=[]\n",
    "count_list=[]\n",
    "for i in y:\n",
    "    letters_list.append(i)\n",
    "for ii in y:\n",
    "    count_list.append(y.count(ii))\n",
    "\n",
    "dictionary= dict(zip(letters_list,count_list))\n",
    "\n",
    "print(dictionary)\n",
    "\n",
    " \n"
   ]
  }
 ],
 "metadata": {
  "language_info": {
   "codemirror_mode": {
    "name": "ipython",
    "version": 3
   },
   "file_extension": ".py",
   "mimetype": "text/x-python",
   "name": "python",
   "nbconvert_exporter": "python",
   "pygments_lexer": "ipython3",
   "version": "3.7.6-final"
  },
  "orig_nbformat": 2,
  "kernelspec": {
   "name": "python3",
   "display_name": "Python 3"
  }
 },
 "nbformat": 4,
 "nbformat_minor": 2
}